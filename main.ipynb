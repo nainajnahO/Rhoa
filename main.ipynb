{
 "cells": [
  {
   "metadata": {
    "jupyter": {
     "is_executing": true
    }
   },
   "cell_type": "code",
   "source": "import pandas as pd\nimport rhoa\nimport matplotlib.pyplot as plt\n\n# Load your price data\ndf = rhoa.data.import_sheet(\"https://docs.google.com/spreadsheets/d/1To-jrrwNBP1XbC4g7LOFdruBKAOdfe-zW3dJrBEkjC4/edit?gid=0#gid=0\")[2000:]\n\n# Compute RSI\ndf[\"rsi\"] = df[\"Close\"].indicators.rsi()\n\n# Remove NaN values\ndf = df.dropna()\n\nprint(f\"Data after cleaning: {df.shape[0]} rows\")\n\n# === Simple RSI Strategy ===\n# Buy when RSI < 30 (oversold)\n# Sell when RSI > 70 (overbought)\ndf[\"signal\"] = 0\ndf.loc[df[\"rsi\"] < 30, \"signal\"] = 1   # Buy signal\ndf.loc[df[\"rsi\"] > 70, \"signal\"] = -1  # Sell signal\n\n# Position (shifted to avoid lookahead bias)\ndf[\"position\"] = df[\"signal\"].shift().fillna(0).ffill()\n\n# Debug info\nbuy_signals = (df[\"signal\"] == 1).sum()\nsell_signals = (df[\"signal\"] == -1).sum()\nposition_changes = (df[\"position\"] != df[\"position\"].shift()).sum()\n\nprint(f\"\\nBuy signals (RSI < 30): {buy_signals}\")\nprint(f\"Sell signals (RSI > 70): {sell_signals}\")\nprint(f\"Position changes: {position_changes}\")\nprint(f\"Unique positions: {df['position'].unique()}\")\n\n# Returns calculation\ndf[\"returns\"] = df[\"Close\"].pct_change()\ndf[\"strategy_returns\"] = df[\"position\"] * df[\"returns\"]\ndf[\"cumulative_returns\"] = (1 + df[\"strategy_returns\"]).cumprod()\n\n# Buy & Hold comparison\ndf[\"buy_hold\"] = df[\"Close\"] / df[\"Close\"].iloc[0]\n\n# Plot results\nfig, axes = plt.subplots(3, 1, figsize=(12, 10))\n\n# Price chart with positions\naxes[0].plot(df.index, df[\"Close\"], label=\"Close Price\", alpha=0.8)\nbuy_points = df[df[\"signal\"] == 1]\nsell_points = df[df[\"signal\"] == -1]\naxes[0].scatter(buy_points.index, buy_points[\"Close\"], color='green', marker='^', s=50, label='Buy Signal', alpha=0.7)\naxes[0].scatter(sell_points.index, sell_points[\"Close\"], color='red', marker='v', s=50, label='Sell Signal', alpha=0.7)\naxes[0].set_title(\"Price with RSI Signals\")\naxes[0].legend()\naxes[0].grid(True)\n\n# RSI chart\naxes[1].plot(df.index, df[\"rsi\"], label=\"RSI\", color='purple')\naxes[1].axhline(y=30, color='green', linestyle='--', alpha=0.7, label=\"Oversold (30)\")\naxes[1].axhline(y=70, color='red', linestyle='--', alpha=0.7, label=\"Overbought (70)\")\naxes[1].fill_between(df.index, 0, 30, alpha=0.1, color='green')\naxes[1].fill_between(df.index, 70, 100, alpha=0.1, color='red')\naxes[1].set_title(\"RSI Indicator\")\naxes[1].set_ylabel(\"RSI\")\naxes[1].legend()\naxes[1].grid(True)\n\n# Performance comparison\naxes[2].plot(df.index, df[\"cumulative_returns\"], label=\"RSI Strategy\", linewidth=2)\naxes[2].plot(df.index, df[\"buy_hold\"], label=\"Buy & Hold\", linestyle='--', alpha=0.8)\naxes[2].axhline(y=1, color='black', linestyle='-', alpha=0.3)\naxes[2].set_title(\"Performance Comparison\")\naxes[2].set_ylabel(\"Cumulative Returns\")\naxes[2].legend()\naxes[2].grid(True)\n\nplt.tight_layout()\nplt.show()\n\n# Performance metrics\nfinal_return = df[\"cumulative_returns\"].iloc[-1]\nbuy_hold_return = df[\"buy_hold\"].iloc[-1]\nmax_drawdown = (df[\"cumulative_returns\"] / df[\"cumulative_returns\"].cummax() - 1).min()\n\nprint(f\"\\n=== PERFORMANCE RESULTS ===\")\nprint(f\"RSI Strategy Final Return: {final_return:.4f}x ({(final_return-1)*100:.2f}%)\")\nprint(f\"Buy & Hold Final Return: {buy_hold_return:.4f}x ({(buy_hold_return-1)*100:.2f}%)\")\nprint(f\"Strategy vs Buy & Hold: {((final_return/buy_hold_return-1)*100):+.2f}%\")\nprint(f\"Max Drawdown: {max_drawdown*100:.2f}%\")\n\n# Show some sample trades\nprint(f\"\\n=== SAMPLE DATA ===\")\nsample_cols = ['Close', 'rsi', 'signal', 'position', 'returns', 'strategy_returns']\nprint(df[sample_cols].head(15).round(4))",
   "id": "f74dda1bec4c44be",
   "outputs": [],
   "execution_count": null
  },
  {
   "metadata": {},
   "cell_type": "code",
   "outputs": [],
   "execution_count": null,
   "source": "",
   "id": "bf72318b5b2224f4"
  }
 ],
 "metadata": {
  "kernelspec": {
   "display_name": "Python 3",
   "language": "python",
   "name": "python3"
  },
  "language_info": {
   "codemirror_mode": {
    "name": "ipython",
    "version": 2
   },
   "file_extension": ".py",
   "mimetype": "text/x-python",
   "name": "python",
   "nbconvert_exporter": "python",
   "pygments_lexer": "ipython2",
   "version": "2.7.6"
  }
 },
 "nbformat": 4,
 "nbformat_minor": 5
}
