{
 "cells": [
  {
   "cell_type": "code",
   "execution_count": null,
   "id": "initial_id",
   "metadata": {
    "collapsed": true
   },
   "outputs": [],
   "source": [
    "import pandas as pd\n",
    "import rhoa\n",
    "import matplotlib.pyplot as plt\n",
    "\n",
    "# Load your price data\n",
    "df = rhoa.data.import_sheet(\"https://docs.google.com/spreadsheets/d/1To-jrrwNBP1XbC4g7LOFdruBKAOdfe-zW3dJrBEkjC4/edit?gid=0#gid=0\")[2000:]\n",
    "\n",
    "# Compute RSI\n",
    "df[\"rsi\"] = df[\"Close\"].indicators.rsi()\n",
    "\n",
    "# Remove NaN values\n",
    "df = df.dropna()\n",
    "\n",
    "print(f\"Data after cleaning: {df.shape[0]} rows\")\n",
    "\n",
    "# === Simple RSI Strategy ===\n",
    "# Buy when RSI < 30 (oversold)\n",
    "# Sell when RSI > 70 (overbought)\n",
    "df[\"signal\"] = 0\n",
    "df.loc[df[\"rsi\"] < 30, \"signal\"] = 1   # Buy signal\n",
    "df.loc[df[\"rsi\"] > 70, \"signal\"] = -1  # Sell signal\n",
    "\n",
    "# Position (shifted to avoid lookahead bias)\n",
    "df[\"position\"] = df[\"signal\"].shift().fillna(0).ffill()\n",
    "\n",
    "# Debug info\n",
    "buy_signals = (df[\"signal\"] == 1).sum()\n",
    "sell_signals = (df[\"signal\"] == -1).sum()\n",
    "position_changes = (df[\"position\"] != df[\"position\"].shift()).sum()\n",
    "\n",
    "print(f\"\\nBuy signals (RSI < 30): {buy_signals}\")\n",
    "print(f\"Sell signals (RSI > 70): {sell_signals}\")\n",
    "print(f\"Position changes: {position_changes}\")\n",
    "print(f\"Unique positions: {df['position'].unique()}\")\n",
    "\n",
    "# Returns calculation\n",
    "df[\"returns\"] = df[\"Close\"].pct_change()\n",
    "df[\"strategy_returns\"] = df[\"position\"] * df[\"returns\"]\n",
    "df[\"cumulative_returns\"] = (1 + df[\"strategy_returns\"]).cumprod()\n",
    "\n",
    "# Buy & Hold comparison\n",
    "df[\"buy_hold\"] = df[\"Close\"] / df[\"Close\"].iloc[0]"
   ]
  }
 ],
 "metadata": {
  "kernelspec": {
   "display_name": "Python 3",
   "language": "python",
   "name": "python3"
  },
  "language_info": {
   "codemirror_mode": {
    "name": "ipython",
    "version": 2
   },
   "file_extension": ".py",
   "mimetype": "text/x-python",
   "name": "python",
   "nbconvert_exporter": "python",
   "pygments_lexer": "ipython2",
   "version": "2.7.6"
  }
 },
 "nbformat": 4,
 "nbformat_minor": 5
}
